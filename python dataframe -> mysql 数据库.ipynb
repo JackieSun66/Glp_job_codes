{
 "cells": [
  {
   "cell_type": "code",
   "execution_count": 16,
   "metadata": {},
   "outputs": [],
   "source": [
    "import pandas as pd\n",
    "from __future__ import print_function\n",
    "import mysql.connector\n",
    "from mysql.connector import errorcode\n",
    "import pymysql"
   ]
  },
  {
   "cell_type": "code",
   "execution_count": 11,
   "metadata": {},
   "outputs": [],
   "source": [
    "from sqlalchemy import create_engine\n",
    "from sqlalchemy.types import NVARCHAR, Float, Integer\n",
    "from sqlalchemy import create_engine\n",
    "from mysql.connector import (connection)"
   ]
  },
  {
   "cell_type": "code",
   "execution_count": 5,
   "metadata": {},
   "outputs": [
    {
     "name": "stdout",
     "output_type": "stream",
     "text": [
      "Collecting mysql-connector\n",
      "  Downloading mysql-connector-2.2.9.tar.gz (11.9 MB)\n",
      "\u001b[K     |████████████████████████████████| 11.9 MB 764 kB/s eta 0:00:01\n",
      "\u001b[?25hBuilding wheels for collected packages: mysql-connector\n",
      "  Building wheel for mysql-connector (setup.py) ... \u001b[?25ldone\n",
      "\u001b[?25h  Created wheel for mysql-connector: filename=mysql_connector-2.2.9-cp38-cp38-macosx_10_9_x86_64.whl size=247953 sha256=ea71ee2bbe218b2ce9cf72e84a95b60c03bbd433cdd15ad5d6e5e80752e5baa5\n",
      "  Stored in directory: /Users/jackiesmacair/Library/Caches/pip/wheels/57/e4/98/5feafb5c393dd2540e44b064a6f95832990d543e5b4f53ea8f\n",
      "Successfully built mysql-connector\n",
      "Installing collected packages: mysql-connector\n",
      "Successfully installed mysql-connector-2.2.9\n",
      "Note: you may need to restart the kernel to use updated packages.\n"
     ]
    }
   ],
   "source": [
    "pip install mysql-connector"
   ]
  },
  {
   "cell_type": "code",
   "execution_count": 8,
   "metadata": {},
   "outputs": [
    {
     "name": "stdout",
     "output_type": "stream",
     "text": [
      "Collecting pymysql\n",
      "  Downloading PyMySQL-1.0.2-py3-none-any.whl (43 kB)\n",
      "\u001b[K     |████████████████████████████████| 43 kB 1.0 MB/s eta 0:00:01\n",
      "\u001b[?25hInstalling collected packages: pymysql\n",
      "Successfully installed pymysql-1.0.2\n",
      "Note: you may need to restart the kernel to use updated packages.\n"
     ]
    }
   ],
   "source": [
    "pip install pymysql"
   ]
  },
  {
   "cell_type": "code",
   "execution_count": 20,
   "metadata": {},
   "outputs": [],
   "source": [
    "#连接mysql服务器\n",
    "  \n",
    "cnx = connection.MySQLConnection(user='",
    "                                password='',\n",
    "                                host='',\n",
    "                                database='')\n",
    "cursor = cnx.cursor()\n",
    "mysqlInfo = {\n",
    "    \"host\": '',\n",
    "    \"user\": '',\n",
    "    \"password\": '',\n",
    "    \"database\": '',\n",
    "    \"port\": 3306,\n",
    "    \"charset\": 'utf8'\n",
    "}\n",
    "engine = create_engine('mysql+pymysql://%(user)s:%(password)s@%(host)s:%(port)d/%(database)s?charset=utf8' % mysqlInfo, encoding='utf-8')\n",
    "conn = engine.connect()\n",
    "#建表格\n",
    "SQL1 = \"\"\"CREATE TABLE `巴拉巴拉` (\n",
    "  \n",
    "`id` int(11) NOT NULL AUTO_INCREMENT,\n",
    "`车牌号` varchar(20) DEFAULT NULL,\n",
    "`取数开始时间` varchar(20) DEFAULT NULL,\n",
    "`取数截止时间` varchar(20) DEFAULT NULL,\n",
    "`取数条数` varchar(20) DEFAULT NULL,\n",
    "`调用时间` varchar(30) DEFAULT NULL,\n",
    "`项目名称` varchar(20) DEFAULT NULL,\n",
    "PRIMARY KEY (`id`)\n",
    "\n",
    ") ENGINE=InnoDB DEFAULT CHARSET=utf8;\n",
    "\"\"\"\n",
    "cursor.execute(SQL1)\n",
    "#数据\n",
    "data = {\"id\":[1],\n",
    "       \"车牌号\":[2],\n",
    "       \"取数开始时间\":[3],\n",
    "       \"取数截止时间\":[4],\n",
    "       \"取数条数\":[5],\n",
    "       \"调用时间\":[6],\n",
    "       \"项目名称\":[7]}\n",
    "df = pd.DataFrame(data, columns = ['id','车牌号','取数开始时间','取数截止时间','取数条数','调用时间','项目名称'])\n",
    "\n",
    "#把数据导入到mysql数据库中\n",
    "df.to_sql(\"巴拉巴拉\", engine, if_exists='append', index=False)"
   ]
  },
  {
   "cell_type": "code",
   "execution_count": 21,
   "metadata": {},
   "outputs": [
    {
     "data": {
      "text/html": [
       "<div>\n",
       "<style scoped>\n",
       "    .dataframe tbody tr th:only-of-type {\n",
       "        vertical-align: middle;\n",
       "    }\n",
       "\n",
       "    .dataframe tbody tr th {\n",
       "        vertical-align: top;\n",
       "    }\n",
       "\n",
       "    .dataframe thead th {\n",
       "        text-align: right;\n",
       "    }\n",
       "</style>\n",
       "<table border=\"1\" class=\"dataframe\">\n",
       "  <thead>\n",
       "    <tr style=\"text-align: right;\">\n",
       "      <th></th>\n",
       "      <th>id</th>\n",
       "      <th>车牌号</th>\n",
       "      <th>取数开始时间</th>\n",
       "      <th>取数截止时间</th>\n",
       "      <th>取数条数</th>\n",
       "      <th>调用时间</th>\n",
       "      <th>项目名称</th>\n",
       "    </tr>\n",
       "  </thead>\n",
       "  <tbody>\n",
       "    <tr>\n",
       "      <th>0</th>\n",
       "      <td>1</td>\n",
       "      <td>2</td>\n",
       "      <td>3</td>\n",
       "      <td>4</td>\n",
       "      <td>5</td>\n",
       "      <td>6</td>\n",
       "      <td>7</td>\n",
       "    </tr>\n",
       "  </tbody>\n",
       "</table>\n",
       "</div>"
      ],
      "text/plain": [
       "   id  车牌号  取数开始时间  取数截止时间  取数条数  调用时间  项目名称\n",
       "0   1    2       3       4     5     6     7"
      ]
     },
     "execution_count": 21,
     "metadata": {},
     "output_type": "execute_result"
    }
   ],
   "source": [
    "df"
   ]
  },
  {
   "cell_type": "code",
   "execution_count": null,
   "metadata": {},
   "outputs": [],
   "source": []
  }
 ],
 "metadata": {
  "kernelspec": {
   "display_name": "Python 3",
   "language": "python",
   "name": "python3"
  },
  "language_info": {
   "codemirror_mode": {
    "name": "ipython",
    "version": 3
   },
   "file_extension": ".py",
   "mimetype": "text/x-python",
   "name": "python",
   "nbconvert_exporter": "python",
   "pygments_lexer": "ipython3",
   "version": "3.8.5"
  }
 },
 "nbformat": 4,
 "nbformat_minor": 4
}
